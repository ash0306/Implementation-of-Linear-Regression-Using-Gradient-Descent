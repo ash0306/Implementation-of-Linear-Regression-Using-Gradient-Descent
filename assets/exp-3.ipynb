{
 "cells": [
  {
   "cell_type": "code",
   "execution_count": null,
   "metadata": {},
   "outputs": [],
   "source": [
    "import numpy as np\n",
    "import matplotlib.pyplot as plt\n",
    "import pandas as pd"
   ]
  },
  {
   "cell_type": "code",
   "execution_count": null,
   "metadata": {},
   "outputs": [],
   "source": [
    "data = pd.read_csv(\"ex1.csv\")\n",
    "data"
   ]
  },
  {
   "cell_type": "code",
   "execution_count": null,
   "metadata": {},
   "outputs": [],
   "source": [
    "def computeCost(X,y,theta):\n",
    "  m=len(y) \n",
    "  h=X.dot(theta) \n",
    "  square_err=(h - y)**2\n",
    "  return 1/(2*m) * np.sum(square_err) \n"
   ]
  },
  {
   "cell_type": "code",
   "execution_count": null,
   "metadata": {},
   "outputs": [],
   "source": [
    "data_n=data.values\n",
    "m=data_n[:,0].size\n",
    "X=np.append(np.ones((m, 1)),data_n[:,0].reshape(m, 1),axis=1)\n",
    "y=data_n[:,1].reshape (m,1) \n",
    "theta=np.zeros((2,1))\n",
    "computeCost(X,y,theta)"
   ]
  },
  {
   "cell_type": "code",
   "execution_count": null,
   "metadata": {},
   "outputs": [],
   "source": [
    "def gradientDescent (X,y, theta, alpha, num_iters):\n",
    "  m=len (y)\n",
    "  J_history=[]\n",
    "  \n",
    "  for i in range(num_iters):\n",
    "    predictions = X.dot(theta)\n",
    "    error = np.dot(X.transpose(), (predictions -y))\n",
    "    descent=alpha * 1/m * error \n",
    "    theta-=descent\n",
    "    J_history.append(computeCost (X,y, theta))\n",
    "  return theta, J_history"
   ]
  },
  {
   "cell_type": "code",
   "execution_count": null,
   "metadata": {},
   "outputs": [],
   "source": [
    "theta,J_history = gradientDescent (X,y, theta, 0.01,1500)\n",
    "print (\"h(x) =\"+str (round(theta[0,0],2))+\" + \"+str(round(theta[1,0],2))+\"X1\")"
   ]
  },
  {
   "cell_type": "code",
   "execution_count": null,
   "metadata": {},
   "outputs": [],
   "source": [
    "plt.plot(J_history)\n",
    "plt.xlabel(\"Iteration\") \n",
    "plt.ylabel(\"J(0)\")\n",
    "plt.title(\"Cost function using Gradient Descent\")"
   ]
  },
  {
   "cell_type": "code",
   "execution_count": null,
   "metadata": {},
   "outputs": [],
   "source": [
    "plt.plot(J_history)\n",
    "plt.xlabel(\"Iteration\") \n",
    "plt.ylabel(\"J(0)\")\n",
    "plt.title(\"Cost function using Gradient Descent\")"
   ]
  },
  {
   "cell_type": "code",
   "execution_count": null,
   "metadata": {},
   "outputs": [],
   "source": [
    "plt.scatter(data['a'],data['b'])\n",
    "x_value=[x for x in range (25)]\n",
    "y_value=[y*theta[1]+theta[0] for y in x_value]\n",
    "plt.plot(x_value,y_value, color=\"r\")\n",
    "plt.xticks(np.arange (5,30,step=5)) \n",
    "plt.yticks(np.arange(-5,30,step=5)) \n",
    "plt.xlabel(\"Population of City (10,000s)\") \n",
    "plt.ylabel(\"Profit ($10,000\") \n",
    "plt.title(\"Profit Prediction\")"
   ]
  },
  {
   "cell_type": "code",
   "execution_count": null,
   "metadata": {},
   "outputs": [],
   "source": [
    "def predict (x,theta):\n",
    "  predictions= np.dot (theta.transpose (),x)\n",
    "  return predictions[0]"
   ]
  },
  {
   "cell_type": "code",
   "execution_count": null,
   "metadata": {},
   "outputs": [],
   "source": [
    "predict1=predict(np.array([1,3.5]),theta)*10000\n",
    "print(\"For population = 35,000, we predict a profit of $\"+str(round(predict1,0)))"
   ]
  },
  {
   "cell_type": "code",
   "execution_count": null,
   "metadata": {},
   "outputs": [],
   "source": [
    "predict2=predict(np.array ([1,7]), theta)*10000\n",
    "print(\"For population = 70,000, we predict a profit of $\"+str(round(predict2,0)))"
   ]
  }
 ],
 "metadata": {
  "language_info": {
   "name": "python"
  },
  "orig_nbformat": 4
 },
 "nbformat": 4,
 "nbformat_minor": 2
}
